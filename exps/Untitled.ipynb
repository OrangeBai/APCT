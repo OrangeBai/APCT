{
 "cells": [
  {
   "cell_type": "code",
   "execution_count": 4,
   "id": "c33f976c",
   "metadata": {},
   "outputs": [],
   "source": [
    "import wandb\n",
    "WANDB_DIR=\"/home/orange/Main/Experiment/ICLR/cifar10/cifar10/vgg16_express2/\"\n",
    "api = wandb.Api()\n",
    "run = api.run(\"orangebai/express2/wftmzrgd\")"
   ]
  },
  {
   "cell_type": "code",
   "execution_count": null,
   "id": "bb45e3eb",
   "metadata": {},
   "outputs": [],
   "source": [
    "import matplotlib.pyplot as plt\n",
    "import numpy as np\n",
    "import numpy.matlib\n",
    "from copy import copy\n",
    "from matplotlib.colors import LogNorm\n",
    "cmap = copy(plt.cm.plasma)\n",
    "cmap.set_bad(cmap(0))\n",
    "fig, axes = plt.subplots(2,1)\n",
    "name = \"val/entropy_layer_00\"\n",
    "pd_10 = run.history(keys=[\"step\", name])\n",
    "xx = np.linspace(0, 121, 121)\n",
    "yy = np.array(list(pd_10[name])).T\n",
    "print(xx.shape)\n",
    "print(yy.shape)\n",
    "\n",
    "axes[0].plot(xx, yy.T, color=\"C0\", alpha=0.01)\n",
    "num_neurons, num_epoch = yy.shape\n",
    "x = np.matlib.repmat(xx, num_neurons, 1).flatten()\n",
    "y = yy.flatten()\n",
    "print(x.shape)\n",
    "print(y.shape)\n",
    "\n",
    "h, xedges, yedges = np.histogram2d(x, y, bins=[120, 120])\n",
    "pcm = axes[1].pcolormesh(xedges, yedges, h.T, cmap=cmap, alpha=0.5, norm=LogNorm(vmax=1.5e2), rasterized=True)\n",
    "fig.colorbar(pcm, ax=axes[1], label=\"# points\", pad=0)\n",
    "plt.show()"
   ]
  },
  {
   "cell_type": "code",
   "execution_count": null,
   "id": "12158ea9",
   "metadata": {},
   "outputs": [],
   "source": []
  },
  {
   "cell_type": "code",
   "execution_count": null,
   "id": "dc35cc91",
   "metadata": {},
   "outputs": [],
   "source": []
  }
 ],
 "metadata": {
  "kernelspec": {
   "display_name": "pytorch",
   "language": "python",
   "name": "pytorch"
  },
  "language_info": {
   "codemirror_mode": {
    "name": "ipython",
    "version": 3
   },
   "file_extension": ".py",
   "mimetype": "text/x-python",
   "name": "python",
   "nbconvert_exporter": "python",
   "pygments_lexer": "ipython3",
   "version": "3.8.13"
  }
 },
 "nbformat": 4,
 "nbformat_minor": 5
}
